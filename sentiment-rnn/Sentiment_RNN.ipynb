{
 "cells": [
  {
   "cell_type": "markdown",
   "metadata": {},
   "source": [
    "# Sentiment Analysis with an RNN\n",
    "\n",
    "In this notebook, you'll implement a recurrent neural network that performs sentiment analysis. Using an RNN rather than a feedfoward network is more accurate since we can include information about the *sequence* of words. Here we'll use a dataset of movie reviews, accompanied by labels.\n",
    "\n",
    "The architecture for this network is shown below.\n",
    "\n",
    "<img src=\"assets/network_diagram.png\" width=400px>\n",
    "\n",
    "Here, we'll pass in words to an embedding layer. We need an embedding layer because we have tens of thousands of words, so we'll need a more efficient representation for our input data than one-hot encoded vectors. You should have seen this before from the word2vec lesson. You can actually train up an embedding with word2vec and use it here. But it's good enough to just have an embedding layer and let the network learn the embedding table on it's own.\n",
    "\n",
    "From the embedding layer, the new representations will be passed to LSTM cells. These will add recurrent connections to the network so we can include information about the sequence of words in the data. Finally, the LSTM cells will go to a sigmoid output layer here. We're using the sigmoid because we're trying to predict if this text has positive or negative sentiment. The output layer will just be a single unit then, with a sigmoid activation function.\n",
    "\n",
    "We don't care about the sigmoid outputs except for the very last one, we can ignore the rest. We'll calculate the cost from the output of the last step and the training label."
   ]
  },
  {
   "cell_type": "code",
   "execution_count": 1,
   "metadata": {
    "collapsed": true
   },
   "outputs": [],
   "source": [
    "import numpy as np\n",
    "import tensorflow as tf"
   ]
  },
  {
   "cell_type": "code",
   "execution_count": 2,
   "metadata": {
    "collapsed": true
   },
   "outputs": [],
   "source": [
    "with open('../sentiment-network/reviews.txt', 'r') as f:\n",
    "    reviews = f.read()\n",
    "with open('../sentiment-network/labels.txt', 'r') as f:\n",
    "    labels_ = f.read()"
   ]
  },
  {
   "cell_type": "code",
   "execution_count": 3,
   "metadata": {},
   "outputs": [
    {
     "data": {
      "text/plain": [
       "'bromwell high is a cartoon comedy . it ran at the same time as some other programs about school life  such as  teachers  . my   years in the teaching profession lead me to believe that bromwell high  s satire is much closer to reality than is  teachers  . the scramble to survive financially  the insightful students who can see right through their pathetic teachers  pomp  the pettiness of the whole situation  all remind me of the schools i knew and their students . when i saw the episode in which a student repeatedly tried to burn down the school  i immediately recalled . . . . . . . . . at . . . . . . . . . . high . a classic line inspector i  m here to sack one of your teachers . student welcome to bromwell high . i expect that many adults of my age think that bromwell high is far fetched . what a pity that it isn  t   \\nstory of a man who has unnatural feelings for a pig . starts out with a opening scene that is a terrific example of absurd comedy . a formal orchestra audience is turned into an insane  violent mob by the crazy chantings of it  s singers . unfortunately it stays absurd the whole time with no general narrative eventually making it just too off putting . even those from the era should be turned off . the cryptic dialogue would make shakespeare seem easy to a third grader . on a technical level it  s better than you might think with some good cinematography by future great vilmos zsigmond . future stars sally kirkland and frederic forrest can be seen briefly .  \\nhomelessness  or houselessness as george carlin stated  has been an issue for years but never a plan to help those on the street that were once considered human who did everything from going to school  work  or vote for the matter . most people think of the homeless as just a lost cause while worrying about things such as racism  the war on iraq  pressuring kids to succeed  technology  the elections  inflation  or worrying if they  ll be next to end up on the streets .  br    br   but what if y'"
      ]
     },
     "execution_count": 3,
     "metadata": {},
     "output_type": "execute_result"
    }
   ],
   "source": [
    "reviews[:2000]"
   ]
  },
  {
   "cell_type": "markdown",
   "metadata": {},
   "source": [
    "## Data preprocessing\n",
    "\n",
    "The first step when building a neural network model is getting your data into the proper form to feed into the network. Since we're using embedding layers, we'll need to encode each word with an integer. We'll also want to clean it up a bit.\n",
    "\n",
    "You can see an example of the reviews data above. We'll want to get rid of those periods. Also, you might notice that the reviews are delimited with newlines `\\n`. To deal with those, I'm going to split the text into each review using `\\n` as the delimiter. Then I can combined all the reviews back together into one big string.\n",
    "\n",
    "First, let's remove all punctuation. Then get all the text without the newlines and split it into individual words."
   ]
  },
  {
   "cell_type": "code",
   "execution_count": 4,
   "metadata": {
    "collapsed": true
   },
   "outputs": [],
   "source": [
    "from string import punctuation\n",
    "all_text = ''.join([c for c in reviews if c not in punctuation])\n",
    "reviews = all_text.split('\\n')\n",
    "\n",
    "all_text = ' '.join(reviews)\n",
    "words = all_text.split()"
   ]
  },
  {
   "cell_type": "code",
   "execution_count": 5,
   "metadata": {},
   "outputs": [
    {
     "data": {
      "text/plain": [
       "'bromwell high is a cartoon comedy  it ran at the same time as some other programs about school life  such as  teachers   my   years in the teaching profession lead me to believe that bromwell high  s satire is much closer to reality than is  teachers   the scramble to survive financially  the insightful students who can see right through their pathetic teachers  pomp  the pettiness of the whole situation  all remind me of the schools i knew and their students  when i saw the episode in which a student repeatedly tried to burn down the school  i immediately recalled          at           high  a classic line inspector i  m here to sack one of your teachers  student welcome to bromwell high  i expect that many adults of my age think that bromwell high is far fetched  what a pity that it isn  t    story of a man who has unnatural feelings for a pig  starts out with a opening scene that is a terrific example of absurd comedy  a formal orchestra audience is turned into an insane  violent mob by the crazy chantings of it  s singers  unfortunately it stays absurd the whole time with no general narrative eventually making it just too off putting  even those from the era should be turned off  the cryptic dialogue would make shakespeare seem easy to a third grader  on a technical level it  s better than you might think with some good cinematography by future great vilmos zsigmond  future stars sally kirkland and frederic forrest can be seen briefly    homelessness  or houselessness as george carlin stated  has been an issue for years but never a plan to help those on the street that were once considered human who did everything from going to school  work  or vote for the matter  most people think of the homeless as just a lost cause while worrying about things such as racism  the war on iraq  pressuring kids to succeed  technology  the elections  inflation  or worrying if they  ll be next to end up on the streets   br    br   but what if you were given a bet to live on the st'"
      ]
     },
     "execution_count": 5,
     "metadata": {},
     "output_type": "execute_result"
    }
   ],
   "source": [
    "all_text[:2000]"
   ]
  },
  {
   "cell_type": "code",
   "execution_count": 6,
   "metadata": {},
   "outputs": [
    {
     "data": {
      "text/plain": [
       "['bromwell',\n",
       " 'high',\n",
       " 'is',\n",
       " 'a',\n",
       " 'cartoon',\n",
       " 'comedy',\n",
       " 'it',\n",
       " 'ran',\n",
       " 'at',\n",
       " 'the',\n",
       " 'same',\n",
       " 'time',\n",
       " 'as',\n",
       " 'some',\n",
       " 'other',\n",
       " 'programs',\n",
       " 'about',\n",
       " 'school',\n",
       " 'life',\n",
       " 'such',\n",
       " 'as',\n",
       " 'teachers',\n",
       " 'my',\n",
       " 'years',\n",
       " 'in',\n",
       " 'the',\n",
       " 'teaching',\n",
       " 'profession',\n",
       " 'lead',\n",
       " 'me',\n",
       " 'to',\n",
       " 'believe',\n",
       " 'that',\n",
       " 'bromwell',\n",
       " 'high',\n",
       " 's',\n",
       " 'satire',\n",
       " 'is',\n",
       " 'much',\n",
       " 'closer',\n",
       " 'to',\n",
       " 'reality',\n",
       " 'than',\n",
       " 'is',\n",
       " 'teachers',\n",
       " 'the',\n",
       " 'scramble',\n",
       " 'to',\n",
       " 'survive',\n",
       " 'financially',\n",
       " 'the',\n",
       " 'insightful',\n",
       " 'students',\n",
       " 'who',\n",
       " 'can',\n",
       " 'see',\n",
       " 'right',\n",
       " 'through',\n",
       " 'their',\n",
       " 'pathetic',\n",
       " 'teachers',\n",
       " 'pomp',\n",
       " 'the',\n",
       " 'pettiness',\n",
       " 'of',\n",
       " 'the',\n",
       " 'whole',\n",
       " 'situation',\n",
       " 'all',\n",
       " 'remind',\n",
       " 'me',\n",
       " 'of',\n",
       " 'the',\n",
       " 'schools',\n",
       " 'i',\n",
       " 'knew',\n",
       " 'and',\n",
       " 'their',\n",
       " 'students',\n",
       " 'when',\n",
       " 'i',\n",
       " 'saw',\n",
       " 'the',\n",
       " 'episode',\n",
       " 'in',\n",
       " 'which',\n",
       " 'a',\n",
       " 'student',\n",
       " 'repeatedly',\n",
       " 'tried',\n",
       " 'to',\n",
       " 'burn',\n",
       " 'down',\n",
       " 'the',\n",
       " 'school',\n",
       " 'i',\n",
       " 'immediately',\n",
       " 'recalled',\n",
       " 'at',\n",
       " 'high']"
      ]
     },
     "execution_count": 6,
     "metadata": {},
     "output_type": "execute_result"
    }
   ],
   "source": [
    "words[:100]"
   ]
  },
  {
   "cell_type": "markdown",
   "metadata": {},
   "source": [
    "### Encoding the words\n",
    "\n",
    "The embedding lookup requires that we pass in integers to our network. The easiest way to do this is to create dictionaries that map the words in the vocabulary to integers. Then we can convert each of our reviews into integers so they can be passed into the network.\n",
    "\n",
    "> **Exercise:** Now you're going to encode the words with integers. Build a dictionary that maps words to integers. Later we're going to pad our input vectors with zeros, so make sure the integers **start at 1, not 0**.\n",
    "> Also, convert the reviews to integers and store the reviews in a new list called `reviews_ints`. "
   ]
  },
  {
   "cell_type": "code",
   "execution_count": 7,
   "metadata": {},
   "outputs": [
    {
     "name": "stdout",
     "output_type": "stream",
     "text": [
      "Vocab to int\n",
      "len words:  74072\n",
      "len vocab:  74072\n",
      "Sample:  36101\n",
      "\n",
      "Reviews ints\n",
      "Review length:  25001\n",
      "Length:  25001\n",
      "Sample:  [24884, 57749, 33574, 50119, 48133, 15, 12763, 57156, 27177, 11023, 64545, 5554, 39363, 59260, 28051, 31411, 18618, 45204, 40300, 71323, 39363, 29010, 11096, 41352, 36101, 11023, 24030, 42999, 21182, 41986, 47943, 54474, 57193, 24884, 57749, 68055, 11687, 33574, 45999, 16616, 47943, 47942, 59443, 33574, 29010, 11023, 68330, 47943, 704, 55296, 11023, 1001, 47807, 5656, 21107, 67987, 56325, 34362, 3720, 57546, 29010, 37354, 11023, 43545, 41103, 11023, 11079, 54285, 1283, 18907, 41986, 41103, 11023, 31801, 68909, 67375, 29471, 3720, 47807, 26288, 68909, 51714, 11023, 22029, 36101, 66061, 50119, 35940, 24922, 64538, 47943, 54198, 7973, 11023, 45204, 68909, 63651, 37233, 27177, 57749, 50119, 35726, 15596, 6453, 68909, 6207, 6394, 47943, 28457, 18652, 41103, 66856, 29010, 35940, 63028, 47943, 24884, 57749, 68909, 13390, 57193, 25978, 1116, 41103, 11096, 33302, 18776, 57193, 24884, 57749, 33574, 57636, 70581, 36111, 50119, 21408, 57193, 12763, 22228, 72182]\n"
     ]
    }
   ],
   "source": [
    "# Create your dictionary that maps vocab words to integers here\n",
    "vocab_to_int = {word: idx+1 for (idx, word) in enumerate(set(words))}\n",
    "\n",
    "print(\"Vocab to int\")\n",
    "print(\"len words: \", len(set(words)))\n",
    "print(\"len vocab: \", len(vocab_to_int))\n",
    "print(\"Sample: \", vocab_to_int['in'])\n",
    "                    \n",
    "# Convert the reviews to integers, same shape as reviews list, but with integers\n",
    "reviews_ints = []\n",
    "for review in reviews:\n",
    "    word_ints = [vocab_to_int[word] for word in review.split()]\n",
    "    reviews_ints.append(word_ints)\n",
    "    \n",
    "print()\n",
    "print(\"Reviews ints\")\n",
    "print(\"Review length: \", len(reviews))\n",
    "print(\"Length: \", len(reviews_ints))\n",
    "print(\"Sample: \", reviews_ints[0])"
   ]
  },
  {
   "cell_type": "markdown",
   "metadata": {},
   "source": [
    "### Encoding the labels\n",
    "\n",
    "Our labels are \"positive\" or \"negative\". To use these labels in our network, we need to convert them to 0 and 1.\n",
    "\n",
    "> **Exercise:** Convert labels from `positive` and `negative` to 1 and 0, respectively."
   ]
  },
  {
   "cell_type": "code",
   "execution_count": 8,
   "metadata": {},
   "outputs": [
    {
     "name": "stdout",
     "output_type": "stream",
     "text": [
      "25000\n"
     ]
    }
   ],
   "source": [
    "# Convert labels to 1s and 0s for 'positive' and 'negative'\n",
    "labels = np.array([0 if a == \"negative\" else 1 for a in labels_.split()])\n",
    "print(len(labels))"
   ]
  },
  {
   "cell_type": "code",
   "execution_count": 11,
   "metadata": {},
   "outputs": [
    {
     "name": "stdout",
     "output_type": "stream",
     "text": [
      "[1 0 1 0 1 0 1 0 1 0 1 0 1 0 1 0 1 0 1 0 1 0 1 0 1 0 1 0 1 0 1 0 1 0 1 0 1\n",
      " 0 1 0 1 0 1 0 1 0 1 0 1 0 1 0 1 0 1 0 1 0 1 0 1 0 1 0 1 0 1 0 1 0 1 0 1 0\n",
      " 1 0 1 0 1 0 1 0 1 0 1 0 1 0 1 0 1 0 1 0 1 0 1 0 1 0]\n",
      "positive\n",
      "negative\n",
      "positive\n",
      "negative\n",
      "positive\n",
      "negative\n",
      "positive\n",
      "negative\n",
      "positive\n",
      "negative\n",
      "positive\n",
      "n\n"
     ]
    }
   ],
   "source": [
    "print(labels[:100])\n",
    "print(labels_[:100])"
   ]
  },
  {
   "cell_type": "markdown",
   "metadata": {},
   "source": [
    "If you built `labels` correctly, you should see the next output."
   ]
  },
  {
   "cell_type": "code",
   "execution_count": 11,
   "metadata": {},
   "outputs": [
    {
     "name": "stdout",
     "output_type": "stream",
     "text": [
      "Zero-length reviews: 1\n",
      "Maximum review length: 2514\n"
     ]
    }
   ],
   "source": [
    "from collections import Counter\n",
    "review_lens = Counter([len(x) for x in reviews_ints])\n",
    "print(\"Zero-length reviews: {}\".format(review_lens[0]))\n",
    "print(\"Maximum review length: {}\".format(max(review_lens)))"
   ]
  },
  {
   "cell_type": "markdown",
   "metadata": {},
   "source": [
    "Okay, a couple issues here. We seem to have one review with zero length. And, the maximum review length is way too many steps for our RNN. Let's truncate to 200 steps. For reviews shorter than 200, we'll pad with 0s. For reviews longer than 200, we can truncate them to the first 200 characters.\n",
    "\n",
    "> **Exercise:** First, remove the review with zero length from the `reviews_ints` list."
   ]
  },
  {
   "cell_type": "code",
   "execution_count": 12,
   "metadata": {},
   "outputs": [
    {
     "name": "stdout",
     "output_type": "stream",
     "text": [
      "Reviews ints len:  25000\n",
      "Labels len:  25000\n"
     ]
    }
   ],
   "source": [
    "# Filter out that review with 0 length\n",
    "# for i, review in enumerate(reviews_ints):\n",
    "#     if len(review) == 0:\n",
    "#         np.delete(reviews_ints, i)\n",
    "#         break\n",
    "reviews_ints = [r for r in reviews_ints if len(r) > 0]\n",
    "print(\"Reviews ints len: \", len(reviews_ints))\n",
    "print(\"Labels len: \", len(labels))"
   ]
  },
  {
   "cell_type": "markdown",
   "metadata": {},
   "source": [
    "> **Exercise:** Now, create an array `features` that contains the data we'll pass to the network. The data should come from `review_ints`, since we want to feed integers to the network. Each row should be 200 elements long. For reviews shorter than 200 words, left pad with 0s. That is, if the review is `['best', 'movie', 'ever']`, `[117, 18, 128]` as integers, the row will look like `[0, 0, 0, ..., 0, 117, 18, 128]`. For reviews longer than 200, use on the first 200 words as the feature vector.\n",
    "\n",
    "This isn't trivial and there are a bunch of ways to do this. But, if you're going to be building your own deep learning networks, you're going to have to get used to preparing your data.\n",
    "\n"
   ]
  },
  {
   "cell_type": "code",
   "execution_count": 13,
   "metadata": {
    "collapsed": true
   },
   "outputs": [],
   "source": [
    "seq_len = 200\n",
    "features = []\n",
    "for review in reviews_ints:\n",
    "    cut = review[:seq_len]\n",
    "    feature = ([0] * (seq_len - len(cut))) + cut\n",
    "    features.append(feature)\n",
    "features = np.array(features)"
   ]
  },
  {
   "cell_type": "markdown",
   "metadata": {},
   "source": [
    "If you build features correctly, it should look like that cell output below."
   ]
  },
  {
   "cell_type": "code",
   "execution_count": 14,
   "metadata": {},
   "outputs": [
    {
     "data": {
      "text/plain": [
       "array([[    0,     0,     0,     0,     0,     0,     0,     0,     0,\n",
       "            0,     0,     0,     0,     0,     0,     0,     0,     0,\n",
       "            0,     0,     0,     0,     0,     0,     0,     0,     0,\n",
       "            0,     0,     0,     0,     0,     0,     0,     0,     0,\n",
       "            0,     0,     0,     0,     0,     0,     0,     0,     0,\n",
       "            0,     0,     0,     0,     0,     0,     0,     0,     0,\n",
       "            0,     0,     0,     0,     0,     0, 24884, 57749, 33574,\n",
       "        50119, 48133,    15, 12763, 57156, 27177, 11023, 64545,  5554,\n",
       "        39363, 59260, 28051, 31411, 18618, 45204, 40300, 71323, 39363,\n",
       "        29010, 11096, 41352, 36101, 11023, 24030, 42999, 21182, 41986,\n",
       "        47943, 54474, 57193, 24884, 57749, 68055, 11687, 33574, 45999,\n",
       "        16616],\n",
       "       [    0,     0,     0,     0,     0,     0,     0,     0,     0,\n",
       "            0,     0,     0,     0,     0,     0,     0,     0,     0,\n",
       "            0,     0,     0,     0,     0,     0,     0,     0,     0,\n",
       "            0,     0,     0,     0,     0,     0,     0,     0,     0,\n",
       "            0,     0,     0,     0,     0,     0,     0,     0,     0,\n",
       "            0,     0,     0,     0,     0,     0,     0,     0,     0,\n",
       "            0,     0,     0,     0,     0,     0,     0,     0,     0,\n",
       "            0,     0,     0,     0,     0,     0,     0,     0,     0,\n",
       "            0,     0,     0,     0,     0,     0,     0,     0,     0,\n",
       "            0,     0,     0,     0,     0, 54170, 41103, 50119, 22077,\n",
       "         5656, 63543, 18275, 21383, 56669, 50119,  5979, 15756, 40791,\n",
       "        44943],\n",
       "       [65205, 70227, 39466, 39363, 67657, 68117, 62182, 63543, 44355,\n",
       "        27461, 65308, 56669, 41352, 64675, 61693, 50119, 11074, 47943,\n",
       "        72122, 34835, 64376, 11023, 56152, 57193,  9802, 27934, 13555,\n",
       "        70781,  5656, 71130, 54102, 49740, 62346, 47943, 45204, 45253,\n",
       "        70227, 21011, 56669, 11023, 68017, 64037, 30889, 18776, 41103,\n",
       "        11023, 60431, 39363,  1541, 50119, 21933, 48827, 56601, 61683,\n",
       "        18618,  7414, 71323, 39363, 55067, 11023, 73519, 64376, 51934,\n",
       "        37085, 41282, 47943, 60505, 35030, 11023, 18261, 54067, 70227,\n",
       "        61683, 64722, 43999, 13864, 46541, 35536, 47943, 65965,  4408,\n",
       "        64376, 11023, 67572, 14377, 14377, 64675, 36111, 64722, 64626,\n",
       "         9802, 68548, 50119, 14855, 47943,   435, 64376, 11023, 67572,\n",
       "        56669],\n",
       "       [25187, 15756, 39363, 50119, 44321, 56244, 18193, 64335, 33574,\n",
       "        22545,  4408, 44943, 55755, 44486, 71323, 34713, 47943, 30403,\n",
       "        39274, 53090,  4046, 47857, 69335,  5656, 33574, 58653,   326,\n",
       "        50119, 39279, 41103, 48433, 68055, 47943, 49934, 44297, 36101,\n",
       "        18467, 41103, 12763, 41526, 30605, 47943, 11023, 20949, 39363,\n",
       "        50119,  4266, 22363, 64376, 65311, 33574,  4046, 17521, 11921,\n",
       "        25760, 70408, 22067, 60263, 11023, 18193, 52604,  9940, 57127,\n",
       "        39363, 30379, 64675, 38289, 14520, 11023, 64335, 33574, 29422,\n",
       "         3772,   573, 11023, 31109, 67471, 33897,  5807, 48160, 49934,\n",
       "        65471, 13428, 68055, 67630, 50428, 43612,  3956, 47322, 45059,\n",
       "         5656, 46128, 11023,  6474, 27597, 40791, 44943, 55660, 37456,\n",
       "        43999],\n",
       "       [    0,     0,     0,     0,     0,     0,     0,     0,     0,\n",
       "            0,     0,     0,     0,     0,     0,     0,     0,     0,\n",
       "            0,     0,     0,     0,     0,     0,     0,     0,     0,\n",
       "            0,     0,     0,     0,     0,     0,     0,     0,     0,\n",
       "            0,     0,     0,     0,     0,     0,     0,     0,     0,\n",
       "            0,     0,     0,     0,     0, 52382,  6507, 35300,   573,\n",
       "         7756, 14051, 48078, 58898, 33136, 72048, 47727, 68909,  7645,\n",
       "        59562, 12231, 29471, 28237, 19713, 36101, 35969, 53005, 24311,\n",
       "        33791, 47943, 73616, 11023, 48460, 64376,  5340, 33574, 50119,\n",
       "        35726, 39363, 25911, 39363, 11336, 36101, 13928, 63985, 11023,\n",
       "         6129, 64376,  3539, 33574, 22363, 57625,  3383, 41526, 43986,\n",
       "        41103],\n",
       "       [    0,     0,     0,     0,     0,     0,     0,     0,     0,\n",
       "            0,     0,     0,     0,     0,     0,     0,     0,     0,\n",
       "            0,     0,     0,     0,     0,     0,     0,     0,     0,\n",
       "            0,     0,     0,     0,     0,     0,     0,     0,     0,\n",
       "            0,     0,     0,     0,     0,     0,     0,     0,     0,\n",
       "            0,     0,     0,     0,     0,     0,     0,     0,     0,\n",
       "        18584, 14407, 31194, 62608, 68909, 65560, 72182, 45177, 11096,\n",
       "         9466, 64376, 27177, 59457, 40647, 64376, 11023, 67547, 41103,\n",
       "        11023, 62714, 22143, 18584, 23197, 61354, 47943, 17595, 41103,\n",
       "        17789, 26288, 35464,  6848, 11023, 68652, 44943, 22067, 62714,\n",
       "        22077, 13028, 11023, 53832, 19713, 43028, 72116, 39363, 41526,\n",
       "        65771],\n",
       "       [    0,     0,     0,     0,     0,     0,     0,     0,     0,\n",
       "            0,     0,     0,     0,     0,     0,     0,     0,     0,\n",
       "            0,     0,     0,     0,     0,     0,     0,     0,     0,\n",
       "            0,     0,     0,     0,     0,     0,     0,     0,     0,\n",
       "            0,     0,     0,     0,     0,     0,     0,     0,     0,\n",
       "            0,     0,     0,     0,     0,     0,     0,     0,     0,\n",
       "            0,     0,     0,     0,     0,     0,     0,     0,     0,\n",
       "            0,     0,     0,     0,     0,     0,     0,     0,     0,\n",
       "            0,     0,     0,     0, 18584, 33574, 22732, 11023, 64037,\n",
       "        36710, 14407, 14322, 11023, 52468, 49444, 57319, 56675, 60215,\n",
       "        12763, 57033, 40179, 17428, 50119, 68425,  4279, 41103, 65205,\n",
       "        37067],\n",
       "       [    0,     0,     0,     0,     0,     0,     0,     0,     0,\n",
       "            0,     0,     0,     0,     0,     0,     0,     0,     0,\n",
       "            0,     0,     0,     0,     0,     0,     0,     0,     0,\n",
       "            0,     0,     0,     0,     0,     0,     0,     0,     0,\n",
       "            0,     0,     0,     0,     0,     0,     0,     0,     0,\n",
       "            0,     0, 24954, 23819, 68909, 67161, 18584, 33574,  3142,\n",
       "        47943, 46541, 27461, 39469, 14407, 64675, 69960, 43999, 63528,\n",
       "         7645, 51700, 40791, 15031, 27177, 11023, 59213, 40968, 30889,\n",
       "        10775, 40046,  3720, 61342, 40791, 29471, 40179, 70347, 71146,\n",
       "        11023, 43657, 42877, 29471, 25932, 41212, 66687, 29234, 18584,\n",
       "        54170, 33574,  7920, 56359, 47943, 70347, 11023, 19883, 41103,\n",
       "        50119],\n",
       "       [    0,     0,     0,     0,     0,     0,     0,     0,     0,\n",
       "            0,     0,     0,     0,     0,     0,     0,     0,     0,\n",
       "            0,     0,     0,     0,     0,     0,     0,     0,     0,\n",
       "            0,     0,     0,     0,     0,     0,     0,     0,     0,\n",
       "            0,     0,     0,     0,     0,     0,     0,     0,     0,\n",
       "            0,     0,     0,     0,     0,     0,     0,     0,     0,\n",
       "            0,     0,     0,     0,     0,     0,     0,     0,     0,\n",
       "            0,     0,     0,     0,     0,     0,     0,     0,     0,\n",
       "            0,     0,     0,     0,     0,     0,     0, 18584, 33574,\n",
       "        40179, 11023, 29203, 41830, 52468, 14407, 12763, 66687, 45999,\n",
       "        29195,  8760, 59443, 64037, 41103, 49934,  2268, 29471, 27621,\n",
       "        47411],\n",
       "       [26288, 68909, 66687, 49220, 11096, 31898, 34031, 41986, 51690,\n",
       "        47943, 11023, 27216, 47943, 67987, 39616, 12763, 66687, 18652,\n",
       "        41103, 25978,  2268, 68909, 63489, 44943, 11096, 31898, 64675,\n",
       "        18584, 66687, 11023, 40404, 18652, 25215, 11821, 40791, 41103,\n",
       "        73963, 27987, 68909, 47411, 61693, 12231, 39616, 12196,  1541,\n",
       "        45046, 29471, 68909, 10775,  7645, 61409, 40791, 11023, 13164,\n",
       "        41103, 11096, 40300, 55876, 12763, 36111, 50119, 57408, 64732,\n",
       "        29471, 34386, 66248, 12405, 41103, 68055, 26459, 29471, 43918,\n",
       "        45281,  1158, 13699, 33574, 18652, 41103, 11096,  2988, 22698,\n",
       "        64675, 39616, 33574,   573, 57636, 11023, 25786, 12405, 41103,\n",
       "        46520, 41103, 49934, 12103, 36101, 11023,  6413, 15770, 41103,\n",
       "        46006]])"
      ]
     },
     "execution_count": 14,
     "metadata": {},
     "output_type": "execute_result"
    }
   ],
   "source": [
    "features[:10,:100]"
   ]
  },
  {
   "cell_type": "markdown",
   "metadata": {},
   "source": [
    "## Training, Validation, Test\n",
    "\n"
   ]
  },
  {
   "cell_type": "markdown",
   "metadata": {},
   "source": [
    "With our data in nice shape, we'll split it into training, validation, and test sets.\n",
    "\n",
    "> **Exercise:** Create the training, validation, and test sets here. You'll need to create sets for the features and the labels, `train_x` and `train_y` for example. Define a split fraction, `split_frac` as the fraction of data to keep in the training set. Usually this is set to 0.8 or 0.9. The rest of the data will be split in half to create the validation and testing data."
   ]
  },
  {
   "cell_type": "code",
   "execution_count": 15,
   "metadata": {},
   "outputs": [
    {
     "name": "stdout",
     "output_type": "stream",
     "text": [
      "\t\t\tFeature Shapes:\n",
      "Train set: \t\t(20000, 200) \n",
      "Validation set: \t(2500, 200) \n",
      "Test set: \t\t(2500, 200)\n"
     ]
    }
   ],
   "source": [
    "from sklearn.model_selection import train_test_split\n",
    "\n",
    "x_train, x_test, y_train, y_test = train_test_split(features, labels, test_size=0.2)\n",
    "\n",
    "train_x = x_train\n",
    "train_y = y_train\n",
    "\n",
    "val_x = x_test[:len(x_test)//2]\n",
    "val_y = y_test[:len(y_test)//2]\n",
    "\n",
    "test_x = x_test[len(x_test)//2:]\n",
    "test_y = y_test[len(y_test)//2:]\n",
    "\n",
    "print(\"\\t\\t\\tFeature Shapes:\")\n",
    "print(\"Train set: \\t\\t{}\".format(train_x.shape), \n",
    "      \"\\nValidation set: \\t{}\".format(val_x.shape),\n",
    "      \"\\nTest set: \\t\\t{}\".format(test_x.shape))"
   ]
  },
  {
   "cell_type": "markdown",
   "metadata": {},
   "source": [
    "With train, validation, and text fractions of 0.8, 0.1, 0.1, the final shapes should look like:\n",
    "```\n",
    "                    Feature Shapes:\n",
    "Train set: \t\t (20000, 200) \n",
    "Validation set: \t(2500, 200) \n",
    "Test set: \t\t  (2500, 200)\n",
    "```"
   ]
  },
  {
   "cell_type": "markdown",
   "metadata": {},
   "source": [
    "## Build the graph\n",
    "\n",
    "Here, we'll build the graph. First up, defining the hyperparameters.\n",
    "\n",
    "* `lstm_size`: Number of units in the hidden layers in the LSTM cells. Usually larger is better performance wise. Common values are 128, 256, 512, etc.\n",
    "* `lstm_layers`: Number of LSTM layers in the network. I'd start with 1, then add more if I'm underfitting.\n",
    "* `batch_size`: The number of reviews to feed the network in one training pass. Typically this should be set as high as you can go without running out of memory.\n",
    "* `learning_rate`: Learning rate"
   ]
  },
  {
   "cell_type": "code",
   "execution_count": 16,
   "metadata": {
    "collapsed": true
   },
   "outputs": [],
   "source": [
    "lstm_size = 256\n",
    "lstm_layers = 1\n",
    "batch_size = 500\n",
    "learning_rate = 0.001"
   ]
  },
  {
   "cell_type": "markdown",
   "metadata": {},
   "source": [
    "For the network itself, we'll be passing in our 200 element long review vectors. Each batch will be `batch_size` vectors. We'll also be using dropout on the LSTM layer, so we'll make a placeholder for the keep probability."
   ]
  },
  {
   "cell_type": "markdown",
   "metadata": {},
   "source": [
    "> **Exercise:** Create the `inputs_`, `labels_`, and drop out `keep_prob` placeholders using `tf.placeholder`. `labels_` needs to be two-dimensional to work with some functions later.  Since `keep_prob` is a scalar (a 0-dimensional tensor), you shouldn't provide a size to `tf.placeholder`."
   ]
  },
  {
   "cell_type": "code",
   "execution_count": 17,
   "metadata": {
    "collapsed": true
   },
   "outputs": [],
   "source": [
    "n_words = len(vocab_to_int) + 1 # Adding 1 because we use 0's for padding, dictionary started at 1\n",
    "\n",
    "# Create the graph object\n",
    "graph = tf.Graph()\n",
    "# Add nodes to the graph\n",
    "with graph.as_default():\n",
    "    inputs_ = tf.placeholder(tf.int32, [None, None], name=\"inputs\")\n",
    "    labels_ = tf.placeholder(tf.int32, [None, None], name=\"labels\")\n",
    "    keep_prob = tf.placeholder(tf.float32, name=\"keep_prob\")"
   ]
  },
  {
   "cell_type": "markdown",
   "metadata": {},
   "source": [
    "### Embedding\n",
    "\n",
    "Now we'll add an embedding layer. We need to do this because there are 74000 words in our vocabulary. It is massively inefficient to one-hot encode our classes here. You should remember dealing with this problem from the word2vec lesson. Instead of one-hot encoding, we can have an embedding layer and use that layer as a lookup table. You could train an embedding layer using word2vec, then load it here. But, it's fine to just make a new layer and let the network learn the weights.\n",
    "\n",
    "> **Exercise:** Create the embedding lookup matrix as a `tf.Variable`. Use that embedding matrix to get the embedded vectors to pass to the LSTM cell with [`tf.nn.embedding_lookup`](https://www.tensorflow.org/api_docs/python/tf/nn/embedding_lookup). This function takes the embedding matrix and an input tensor, such as the review vectors. Then, it'll return another tensor with the embedded vectors. So, if the embedding layer has 200 units, the function will return a tensor with size [batch_size, 200].\n",
    "\n"
   ]
  },
  {
   "cell_type": "code",
   "execution_count": 18,
   "metadata": {},
   "outputs": [],
   "source": [
    "# Size of the embedding vectors (number of units in the embedding layer)\n",
    "embed_size = 300 \n",
    "\n",
    "with graph.as_default():\n",
    "    embedding = tf.Variable(tf.truncated_normal((n_words, embed_size), -1, 1))\n",
    "    embed = tf.nn.embedding_lookup(embedding, inputs_)"
   ]
  },
  {
   "cell_type": "markdown",
   "metadata": {},
   "source": [
    "### LSTM cell\n",
    "\n",
    "<img src=\"assets/network_diagram.png\" width=400px>\n",
    "\n",
    "Next, we'll create our LSTM cells to use in the recurrent network ([TensorFlow documentation](https://www.tensorflow.org/api_docs/python/tf/contrib/rnn)). Here we are just defining what the cells look like. This isn't actually building the graph, just defining the type of cells we want in our graph.\n",
    "\n",
    "To create a basic LSTM cell for the graph, you'll want to use `tf.contrib.rnn.BasicLSTMCell`. Looking at the function documentation:\n",
    "\n",
    "```\n",
    "tf.contrib.rnn.BasicLSTMCell(num_units, forget_bias=1.0, input_size=None, state_is_tuple=True, activation=<function tanh at 0x109f1ef28>)\n",
    "```\n",
    "\n",
    "you can see it takes a parameter called `num_units`, the number of units in the cell, called `lstm_size` in this code. So then, you can write something like \n",
    "\n",
    "```\n",
    "lstm = tf.contrib.rnn.BasicLSTMCell(num_units)\n",
    "```\n",
    "\n",
    "to create an LSTM cell with `num_units`. Next, you can add dropout to the cell with `tf.contrib.rnn.DropoutWrapper`. This just wraps the cell in another cell, but with dropout added to the inputs and/or outputs. It's a really convenient way to make your network better with almost no effort! So you'd do something like\n",
    "\n",
    "```\n",
    "drop = tf.contrib.rnn.DropoutWrapper(cell, output_keep_prob=keep_prob)\n",
    "```\n",
    "\n",
    "Most of the time, your network will have better performance with more layers. That's sort of the magic of deep learning, adding more layers allows the network to learn really complex relationships. Again, there is a simple way to create multiple layers of LSTM cells with `tf.contrib.rnn.MultiRNNCell`:\n",
    "\n",
    "```\n",
    "cell = tf.contrib.rnn.MultiRNNCell([drop] * lstm_layers)\n",
    "```\n",
    "\n",
    "Here, `[drop] * lstm_layers` creates a list of cells (`drop`) that is `lstm_layers` long. The `MultiRNNCell` wrapper builds this into multiple layers of RNN cells, one for each cell in the list.\n",
    "\n",
    "So the final cell you're using in the network is actually multiple (or just one) LSTM cells with dropout. But it all works the same from an achitectural viewpoint, just a more complicated graph in the cell.\n",
    "\n",
    "> **Exercise:** Below, use `tf.contrib.rnn.BasicLSTMCell` to create an LSTM cell. Then, add drop out to it with `tf.contrib.rnn.DropoutWrapper`. Finally, create multiple LSTM layers with `tf.contrib.rnn.MultiRNNCell`.\n",
    "\n",
    "Here is [a tutorial on building RNNs](https://www.tensorflow.org/tutorials/recurrent) that will help you out.\n"
   ]
  },
  {
   "cell_type": "code",
   "execution_count": 19,
   "metadata": {},
   "outputs": [],
   "source": [
    "with graph.as_default():\n",
    "    # Your basic LSTM cell\n",
    "    lstm = tf.contrib.rnn.BasicLSTMCell(lstm_size)\n",
    "    \n",
    "    # Add dropout to the cell\n",
    "    drop = tf.contrib.rnn.DropoutWrapper(lstm, output_keep_prob=keep_prob)\n",
    "    \n",
    "    # Stack up multiple LSTM layers, for deep learning\n",
    "    cell = tf.contrib.rnn.MultiRNNCell([drop]*lstm_layers)\n",
    "    \n",
    "    # Getting an initial state of all zeros\n",
    "    initial_state = cell.zero_state(batch_size, tf.float32)"
   ]
  },
  {
   "cell_type": "markdown",
   "metadata": {},
   "source": [
    "### RNN forward pass\n",
    "\n",
    "<img src=\"assets/network_diagram.png\" width=400px>\n",
    "\n",
    "Now we need to actually run the data through the RNN nodes. You can use [`tf.nn.dynamic_rnn`](https://www.tensorflow.org/api_docs/python/tf/nn/dynamic_rnn) to do this. You'd pass in the RNN cell you created (our multiple layered LSTM `cell` for instance), and the inputs to the network.\n",
    "\n",
    "```\n",
    "outputs, final_state = tf.nn.dynamic_rnn(cell, inputs, initial_state=initial_state)\n",
    "```\n",
    "\n",
    "Above I created an initial state, `initial_state`, to pass to the RNN. This is the cell state that is passed between the hidden layers in successive time steps. `tf.nn.dynamic_rnn` takes care of most of the work for us. We pass in our cell and the input to the cell, then it does the unrolling and everything else for us. It returns outputs for each time step and the final_state of the hidden layer.\n",
    "\n",
    "> **Exercise:** Use `tf.nn.dynamic_rnn` to add the forward pass through the RNN. Remember that we're actually passing in vectors from the embedding layer, `embed`.\n",
    "\n"
   ]
  },
  {
   "cell_type": "code",
   "execution_count": 20,
   "metadata": {},
   "outputs": [],
   "source": [
    "with graph.as_default():\n",
    "    outputs, final_state = tf.nn.dynamic_rnn(cell, embed, initial_state=initial_state)"
   ]
  },
  {
   "cell_type": "markdown",
   "metadata": {},
   "source": [
    "### Output\n",
    "\n",
    "We only care about the final output, we'll be using that as our sentiment prediction. So we need to grab the last output with `outputs[:, -1]`, the calculate the cost from that and `labels_`."
   ]
  },
  {
   "cell_type": "code",
   "execution_count": 21,
   "metadata": {
    "collapsed": true
   },
   "outputs": [],
   "source": [
    "with graph.as_default():\n",
    "    predictions = tf.contrib.layers.fully_connected(outputs[:, -1], 1, activation_fn=tf.sigmoid)\n",
    "    cost = tf.losses.mean_squared_error(labels_, predictions)\n",
    "    \n",
    "    optimizer = tf.train.AdamOptimizer(learning_rate).minimize(cost)"
   ]
  },
  {
   "cell_type": "markdown",
   "metadata": {},
   "source": [
    "### Validation accuracy\n",
    "\n",
    "Here we can add a few nodes to calculate the accuracy which we'll use in the validation pass."
   ]
  },
  {
   "cell_type": "code",
   "execution_count": 22,
   "metadata": {
    "collapsed": true
   },
   "outputs": [],
   "source": [
    "with graph.as_default():\n",
    "    correct_pred = tf.equal(tf.cast(tf.round(predictions), tf.int32), labels_)\n",
    "    accuracy = tf.reduce_mean(tf.cast(correct_pred, tf.float32))"
   ]
  },
  {
   "cell_type": "markdown",
   "metadata": {},
   "source": [
    "### Batching\n",
    "\n",
    "This is a simple function for returning batches from our data. First it removes data such that we only have full batches. Then it iterates through the `x` and `y` arrays and returns slices out of those arrays with size `[batch_size]`."
   ]
  },
  {
   "cell_type": "code",
   "execution_count": null,
   "metadata": {
    "collapsed": true
   },
   "outputs": [],
   "source": [
    "def get_batches(x, y, batch_size=100):\n",
    "    \n",
    "    n_batches = len(x)//batch_size\n",
    "    x, y = x[:n_batches*batch_size], y[:n_batches*batch_size]\n",
    "    for ii in range(0, len(x), batch_size):\n",
    "        yield x[ii:ii+batch_size], y[ii:ii+batch_size]"
   ]
  },
  {
   "cell_type": "markdown",
   "metadata": {},
   "source": [
    "## Training\n",
    "\n",
    "Below is the typical training code. If you want to do this yourself, feel free to delete all this code and implement it yourself. Before you run this, make sure the `checkpoints` directory exists."
   ]
  },
  {
   "cell_type": "code",
   "execution_count": null,
   "metadata": {},
   "outputs": [
    {
     "name": "stdout",
     "output_type": "stream",
     "text": [
      "Epoch: 0/10 Iteration: 5 Train loss: 0.364\n",
      "Epoch: 0/10 Iteration: 10 Train loss: 0.293\n",
      "Epoch: 0/10 Iteration: 15 Train loss: 0.286\n",
      "Epoch: 0/10 Iteration: 20 Train loss: 0.260\n",
      "Epoch: 0/10 Iteration: 25 Train loss: 0.264\n",
      "Val acc: 0.495\n",
      "Epoch: 0/10 Iteration: 30 Train loss: 0.258\n",
      "Epoch: 0/10 Iteration: 35 Train loss: 0.258\n",
      "Epoch: 0/10 Iteration: 40 Train loss: 0.251\n",
      "Epoch: 1/10 Iteration: 45 Train loss: 0.254\n",
      "Epoch: 1/10 Iteration: 50 Train loss: 0.249\n",
      "Val acc: 0.519\n",
      "Epoch: 1/10 Iteration: 55 Train loss: 0.253\n",
      "Epoch: 1/10 Iteration: 60 Train loss: 0.251\n",
      "Epoch: 1/10 Iteration: 65 Train loss: 0.250\n",
      "Epoch: 1/10 Iteration: 70 Train loss: 0.250\n",
      "Epoch: 1/10 Iteration: 75 Train loss: 0.250\n",
      "Val acc: 0.524\n",
      "Epoch: 1/10 Iteration: 80 Train loss: 0.249\n",
      "Epoch: 2/10 Iteration: 85 Train loss: 0.248\n",
      "Epoch: 2/10 Iteration: 90 Train loss: 0.248\n",
      "Epoch: 2/10 Iteration: 95 Train loss: 0.249\n",
      "Epoch: 2/10 Iteration: 100 Train loss: 0.250\n",
      "Val acc: 0.531\n",
      "Epoch: 2/10 Iteration: 105 Train loss: 0.246\n",
      "Epoch: 2/10 Iteration: 110 Train loss: 0.246\n",
      "Epoch: 2/10 Iteration: 115 Train loss: 0.248\n",
      "Epoch: 2/10 Iteration: 120 Train loss: 0.243\n",
      "Epoch: 3/10 Iteration: 125 Train loss: 0.247\n",
      "Val acc: 0.564\n",
      "Epoch: 3/10 Iteration: 130 Train loss: 0.244\n",
      "Epoch: 3/10 Iteration: 135 Train loss: 0.241\n",
      "Epoch: 3/10 Iteration: 140 Train loss: 0.246\n",
      "Epoch: 3/10 Iteration: 145 Train loss: 0.245\n",
      "Epoch: 3/10 Iteration: 150 Train loss: 0.241\n",
      "Val acc: 0.561\n",
      "Epoch: 3/10 Iteration: 155 Train loss: 0.249\n",
      "Epoch: 3/10 Iteration: 160 Train loss: 0.236\n",
      "Epoch: 4/10 Iteration: 165 Train loss: 0.244\n",
      "Epoch: 4/10 Iteration: 170 Train loss: 0.244\n",
      "Epoch: 4/10 Iteration: 175 Train loss: 0.245\n",
      "Val acc: 0.564\n",
      "Epoch: 4/10 Iteration: 180 Train loss: 0.237\n",
      "Epoch: 4/10 Iteration: 185 Train loss: 0.235\n",
      "Epoch: 4/10 Iteration: 190 Train loss: 0.233\n",
      "Epoch: 4/10 Iteration: 195 Train loss: 0.239\n",
      "Epoch: 4/10 Iteration: 200 Train loss: 0.223\n",
      "Val acc: 0.578\n",
      "Epoch: 5/10 Iteration: 205 Train loss: 0.236\n",
      "Epoch: 5/10 Iteration: 210 Train loss: 0.233\n",
      "Epoch: 5/10 Iteration: 215 Train loss: 0.243\n",
      "Epoch: 5/10 Iteration: 220 Train loss: 0.234\n",
      "Epoch: 5/10 Iteration: 225 Train loss: 0.224\n",
      "Val acc: 0.572\n",
      "Epoch: 5/10 Iteration: 230 Train loss: 0.224\n",
      "Epoch: 5/10 Iteration: 235 Train loss: 0.238\n",
      "Epoch: 5/10 Iteration: 240 Train loss: 0.211\n",
      "Epoch: 6/10 Iteration: 245 Train loss: 0.222\n",
      "Epoch: 6/10 Iteration: 250 Train loss: 0.229\n",
      "Val acc: 0.554\n",
      "Epoch: 6/10 Iteration: 255 Train loss: 0.235\n",
      "Epoch: 6/10 Iteration: 260 Train loss: 0.224\n",
      "Epoch: 6/10 Iteration: 265 Train loss: 0.208\n",
      "Epoch: 6/10 Iteration: 270 Train loss: 0.205\n",
      "Epoch: 6/10 Iteration: 275 Train loss: 0.234\n",
      "Val acc: 0.609\n",
      "Epoch: 6/10 Iteration: 280 Train loss: 0.185\n",
      "Epoch: 7/10 Iteration: 285 Train loss: 0.227\n",
      "Epoch: 7/10 Iteration: 290 Train loss: 0.211\n",
      "Epoch: 7/10 Iteration: 295 Train loss: 0.211\n",
      "Epoch: 7/10 Iteration: 300 Train loss: 0.191\n",
      "Val acc: 0.592\n",
      "Epoch: 7/10 Iteration: 305 Train loss: 0.184\n",
      "Epoch: 7/10 Iteration: 310 Train loss: 0.189\n",
      "Epoch: 7/10 Iteration: 315 Train loss: 0.227\n",
      "Epoch: 7/10 Iteration: 320 Train loss: 0.190\n",
      "Epoch: 8/10 Iteration: 325 Train loss: 0.201\n",
      "Val acc: 0.616\n",
      "Epoch: 8/10 Iteration: 330 Train loss: 0.201\n",
      "Epoch: 8/10 Iteration: 335 Train loss: 0.189\n",
      "Epoch: 8/10 Iteration: 340 Train loss: 0.197\n",
      "Epoch: 8/10 Iteration: 345 Train loss: 0.179\n",
      "Epoch: 8/10 Iteration: 350 Train loss: 0.152\n",
      "Val acc: 0.688\n",
      "Epoch: 8/10 Iteration: 355 Train loss: 0.160\n",
      "Epoch: 8/10 Iteration: 360 Train loss: 0.134\n",
      "Epoch: 9/10 Iteration: 365 Train loss: 0.153\n",
      "Epoch: 9/10 Iteration: 370 Train loss: 0.154\n",
      "Epoch: 9/10 Iteration: 375 Train loss: 0.138\n",
      "Val acc: 0.763\n",
      "Epoch: 9/10 Iteration: 380 Train loss: 0.119\n",
      "Epoch: 9/10 Iteration: 385 Train loss: 0.116\n",
      "Epoch: 9/10 Iteration: 390 Train loss: 0.139\n",
      "Epoch: 9/10 Iteration: 395 Train loss: 0.139\n"
     ]
    }
   ],
   "source": [
    "epochs = 10\n",
    "\n",
    "with graph.as_default():\n",
    "    saver = tf.train.Saver()\n",
    "\n",
    "with tf.Session(graph=graph) as sess:\n",
    "    sess.run(tf.global_variables_initializer())\n",
    "    iteration = 1\n",
    "    for e in range(epochs):\n",
    "        state = sess.run(initial_state)\n",
    "        \n",
    "        for ii, (x, y) in enumerate(get_batches(train_x, train_y, batch_size), 1):\n",
    "            feed = {inputs_: x,\n",
    "                    labels_: y[:, None],\n",
    "                    keep_prob: 0.5,\n",
    "                    initial_state: state}\n",
    "            loss, state, _ = sess.run([cost, final_state, optimizer], feed_dict=feed)\n",
    "            \n",
    "            if iteration%5==0:\n",
    "                print(\"Epoch: {}/{}\".format(e, epochs),\n",
    "                      \"Iteration: {}\".format(iteration),\n",
    "                      \"Train loss: {:.3f}\".format(loss))\n",
    "\n",
    "            if iteration%25==0:\n",
    "                val_acc = []\n",
    "                val_state = sess.run(cell.zero_state(batch_size, tf.float32))\n",
    "                for x, y in get_batches(val_x, val_y, batch_size):\n",
    "                    feed = {inputs_: x,\n",
    "                            labels_: y[:, None],\n",
    "                            keep_prob: 1,\n",
    "                            initial_state: val_state}\n",
    "                    batch_acc, val_state = sess.run([accuracy, final_state], feed_dict=feed)\n",
    "                    val_acc.append(batch_acc)\n",
    "                print(\"Val acc: {:.3f}\".format(np.mean(val_acc)))\n",
    "            iteration +=1\n",
    "    saver.save(sess, \"checkpoints/sentiment.ckpt\")"
   ]
  },
  {
   "cell_type": "markdown",
   "metadata": {},
   "source": [
    "## Testing"
   ]
  },
  {
   "cell_type": "code",
   "execution_count": null,
   "metadata": {},
   "outputs": [],
   "source": [
    "test_acc = []\n",
    "with tf.Session(graph=graph) as sess:\n",
    "    saver.restore(sess, tf.train.latest_checkpoint('checkpoints'))\n",
    "    test_state = sess.run(cell.zero_state(batch_size, tf.float32))\n",
    "    for ii, (x, y) in enumerate(get_batches(test_x, test_y, batch_size), 1):\n",
    "        feed = {inputs_: x,\n",
    "                labels_: y[:, None],\n",
    "                keep_prob: 1,\n",
    "                initial_state: test_state}\n",
    "        batch_acc, test_state = sess.run([accuracy, final_state], feed_dict=feed)\n",
    "        test_acc.append(batch_acc)\n",
    "    print(\"Test accuracy: {:.3f}\".format(np.mean(test_acc)))"
   ]
  },
  {
   "cell_type": "code",
   "execution_count": null,
   "metadata": {
    "collapsed": true
   },
   "outputs": [],
   "source": []
  }
 ],
 "metadata": {
  "kernelspec": {
   "display_name": "Python 3",
   "language": "python",
   "name": "python3"
  },
  "language_info": {
   "codemirror_mode": {
    "name": "ipython",
    "version": 3
   },
   "file_extension": ".py",
   "mimetype": "text/x-python",
   "name": "python",
   "nbconvert_exporter": "python",
   "pygments_lexer": "ipython3",
   "version": "3.6.2"
  }
 },
 "nbformat": 4,
 "nbformat_minor": 2
}
